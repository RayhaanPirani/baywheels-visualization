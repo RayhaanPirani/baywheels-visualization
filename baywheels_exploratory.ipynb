{
 "cells": [
  {
   "cell_type": "markdown",
   "metadata": {},
   "source": [
    "# Data Visualization - Bay Wheels Trip Data\n",
    "\n",
    "In this project, we shall perform exploratory and explanatory visualization on the [Bay Wheels Trip Data](https://www.lyft.com/bikes/bay-wheels/system-data) provided by Lyft. We use the latest version of the data available (for March 2020, generated on April 18th). First, we download and load the data in a pandas DataFrame and perform some preliminary data wrangling.\n",
    "\n",
    "## Preliminary Data Wrangling"
   ]
  },
  {
   "cell_type": "code",
   "execution_count": 4,
   "metadata": {},
   "outputs": [],
   "source": [
    "# Importing packages needed and setting visibility for plotting\n",
    "import numpy as np\n",
    "import pandas as pd\n",
    "import matplotlib.pyplot as plt\n",
    "import seaborn as sb\n",
    "import requests\n",
    "import zipfile\n",
    "\n",
    "% matplotlib inline"
   ]
  },
  {
   "cell_type": "code",
   "execution_count": 5,
   "metadata": {},
   "outputs": [],
   "source": [
    "# Getting the file from the website\n",
    "dataset_url = \"https://s3.amazonaws.com/baywheels-data/202003-baywheels-tripdata.csv.zip\"\n",
    "req = requests.get(dataset_url)\n",
    "file_name = dataset_url.split('/')[-1]"
   ]
  },
  {
   "cell_type": "code",
   "execution_count": null,
   "metadata": {},
   "outputs": [],
   "source": [
    "# Downloading file in ZIP format\n",
    "open(file_name, 'wb').write(req.content)"
   ]
  },
  {
   "cell_type": "code",
   "execution_count": 6,
   "metadata": {},
   "outputs": [],
   "source": [
    "# Extracting ZIP file\n",
    "with zipfile.ZipFile(file_name, 'r') as zip_ref:\n",
    "    zip_ref.extractall('.')"
   ]
  },
  {
   "cell_type": "code",
   "execution_count": 6,
   "metadata": {},
   "outputs": [],
   "source": [
    "data_file = file_name.replace('.zip', '')"
   ]
  },
  {
   "cell_type": "code",
   "execution_count": 7,
   "metadata": {
    "scrolled": false
   },
   "outputs": [
    {
     "data": {
      "text/html": [
       "<div>\n",
       "<style scoped>\n",
       "    .dataframe tbody tr th:only-of-type {\n",
       "        vertical-align: middle;\n",
       "    }\n",
       "\n",
       "    .dataframe tbody tr th {\n",
       "        vertical-align: top;\n",
       "    }\n",
       "\n",
       "    .dataframe thead th {\n",
       "        text-align: right;\n",
       "    }\n",
       "</style>\n",
       "<table border=\"1\" class=\"dataframe\">\n",
       "  <thead>\n",
       "    <tr style=\"text-align: right;\">\n",
       "      <th></th>\n",
       "      <th>duration_sec</th>\n",
       "      <th>start_time</th>\n",
       "      <th>end_time</th>\n",
       "      <th>start_station_id</th>\n",
       "      <th>start_station_name</th>\n",
       "      <th>start_station_latitude</th>\n",
       "      <th>start_station_longitude</th>\n",
       "      <th>end_station_id</th>\n",
       "      <th>end_station_name</th>\n",
       "      <th>end_station_latitude</th>\n",
       "      <th>end_station_longitude</th>\n",
       "      <th>bike_id</th>\n",
       "      <th>user_type</th>\n",
       "      <th>rental_access_method</th>\n",
       "    </tr>\n",
       "  </thead>\n",
       "  <tbody>\n",
       "    <tr>\n",
       "      <th>0</th>\n",
       "      <td>35187</td>\n",
       "      <td>2020-03-31 20:42:10.0790</td>\n",
       "      <td>2020-04-01 06:28:37.8440</td>\n",
       "      <td>462.0</td>\n",
       "      <td>Cruise Terminal at Pier 27</td>\n",
       "      <td>37.804648</td>\n",
       "      <td>-122.402087</td>\n",
       "      <td>24.0</td>\n",
       "      <td>Spear St at Folsom St</td>\n",
       "      <td>37.789677</td>\n",
       "      <td>-122.390428</td>\n",
       "      <td>10982</td>\n",
       "      <td>Customer</td>\n",
       "      <td>NaN</td>\n",
       "    </tr>\n",
       "    <tr>\n",
       "      <th>1</th>\n",
       "      <td>14568</td>\n",
       "      <td>2020-03-31 22:45:25.5010</td>\n",
       "      <td>2020-04-01 02:48:13.7730</td>\n",
       "      <td>42.0</td>\n",
       "      <td>San Francisco City Hall (Polk St at Grove St)</td>\n",
       "      <td>37.778650</td>\n",
       "      <td>-122.418230</td>\n",
       "      <td>370.0</td>\n",
       "      <td>Jones St at Post St</td>\n",
       "      <td>37.787327</td>\n",
       "      <td>-122.413278</td>\n",
       "      <td>12617</td>\n",
       "      <td>Customer</td>\n",
       "      <td>NaN</td>\n",
       "    </tr>\n",
       "    <tr>\n",
       "      <th>2</th>\n",
       "      <td>35990</td>\n",
       "      <td>2020-03-31 15:08:22.3310</td>\n",
       "      <td>2020-04-01 01:08:12.9900</td>\n",
       "      <td>391.0</td>\n",
       "      <td>1st St at Younger Ave</td>\n",
       "      <td>37.355030</td>\n",
       "      <td>-121.904436</td>\n",
       "      <td>397.0</td>\n",
       "      <td>Gish Rd at 1st St</td>\n",
       "      <td>37.361867</td>\n",
       "      <td>-121.909315</td>\n",
       "      <td>12812</td>\n",
       "      <td>Customer</td>\n",
       "      <td>NaN</td>\n",
       "    </tr>\n",
       "    <tr>\n",
       "      <th>3</th>\n",
       "      <td>1068</td>\n",
       "      <td>2020-03-31 23:55:00.4260</td>\n",
       "      <td>2020-04-01 00:12:49.0200</td>\n",
       "      <td>456.0</td>\n",
       "      <td>Arguello Blvd at Geary Blvd</td>\n",
       "      <td>37.781468</td>\n",
       "      <td>-122.458806</td>\n",
       "      <td>107.0</td>\n",
       "      <td>17th St at Dolores St</td>\n",
       "      <td>37.763015</td>\n",
       "      <td>-122.426497</td>\n",
       "      <td>12955</td>\n",
       "      <td>Customer</td>\n",
       "      <td>NaN</td>\n",
       "    </tr>\n",
       "    <tr>\n",
       "      <th>4</th>\n",
       "      <td>3300</td>\n",
       "      <td>2020-03-31 23:00:55.6410</td>\n",
       "      <td>2020-03-31 23:55:56.6110</td>\n",
       "      <td>6.0</td>\n",
       "      <td>The Embarcadero at Sansome St</td>\n",
       "      <td>37.804770</td>\n",
       "      <td>-122.403234</td>\n",
       "      <td>24.0</td>\n",
       "      <td>Spear St at Folsom St</td>\n",
       "      <td>37.789677</td>\n",
       "      <td>-122.390428</td>\n",
       "      <td>13050</td>\n",
       "      <td>Customer</td>\n",
       "      <td>NaN</td>\n",
       "    </tr>\n",
       "  </tbody>\n",
       "</table>\n",
       "</div>"
      ],
      "text/plain": [
       "   duration_sec                start_time                  end_time  \\\n",
       "0         35187  2020-03-31 20:42:10.0790  2020-04-01 06:28:37.8440   \n",
       "1         14568  2020-03-31 22:45:25.5010  2020-04-01 02:48:13.7730   \n",
       "2         35990  2020-03-31 15:08:22.3310  2020-04-01 01:08:12.9900   \n",
       "3          1068  2020-03-31 23:55:00.4260  2020-04-01 00:12:49.0200   \n",
       "4          3300  2020-03-31 23:00:55.6410  2020-03-31 23:55:56.6110   \n",
       "\n",
       "   start_station_id                             start_station_name  \\\n",
       "0             462.0                     Cruise Terminal at Pier 27   \n",
       "1              42.0  San Francisco City Hall (Polk St at Grove St)   \n",
       "2             391.0                          1st St at Younger Ave   \n",
       "3             456.0                    Arguello Blvd at Geary Blvd   \n",
       "4               6.0                  The Embarcadero at Sansome St   \n",
       "\n",
       "   start_station_latitude  start_station_longitude  end_station_id  \\\n",
       "0               37.804648              -122.402087            24.0   \n",
       "1               37.778650              -122.418230           370.0   \n",
       "2               37.355030              -121.904436           397.0   \n",
       "3               37.781468              -122.458806           107.0   \n",
       "4               37.804770              -122.403234            24.0   \n",
       "\n",
       "        end_station_name  end_station_latitude  end_station_longitude  \\\n",
       "0  Spear St at Folsom St             37.789677            -122.390428   \n",
       "1    Jones St at Post St             37.787327            -122.413278   \n",
       "2      Gish Rd at 1st St             37.361867            -121.909315   \n",
       "3  17th St at Dolores St             37.763015            -122.426497   \n",
       "4  Spear St at Folsom St             37.789677            -122.390428   \n",
       "\n",
       "   bike_id user_type rental_access_method  \n",
       "0    10982  Customer                  NaN  \n",
       "1    12617  Customer                  NaN  \n",
       "2    12812  Customer                  NaN  \n",
       "3    12955  Customer                  NaN  \n",
       "4    13050  Customer                  NaN  "
      ]
     },
     "execution_count": 7,
     "metadata": {},
     "output_type": "execute_result"
    }
   ],
   "source": [
    "# Reading file into pandas and having a look at it\n",
    "trip_data_df = pd.read_csv(data_file)\n",
    "trip_data_df.head()"
   ]
  },
  {
   "cell_type": "code",
   "execution_count": 8,
   "metadata": {},
   "outputs": [
    {
     "name": "stdout",
     "output_type": "stream",
     "text": [
      "<class 'pandas.core.frame.DataFrame'>\n",
      "RangeIndex: 176799 entries, 0 to 176798\n",
      "Data columns (total 14 columns):\n",
      "duration_sec               176799 non-null int64\n",
      "start_time                 176799 non-null object\n",
      "end_time                   176799 non-null object\n",
      "start_station_id           110696 non-null float64\n",
      "start_station_name         111349 non-null object\n",
      "start_station_latitude     176799 non-null float64\n",
      "start_station_longitude    176799 non-null float64\n",
      "end_station_id             111097 non-null float64\n",
      "end_station_name           111794 non-null object\n",
      "end_station_latitude       176799 non-null float64\n",
      "end_station_longitude      176799 non-null float64\n",
      "bike_id                    176799 non-null int64\n",
      "user_type                  176799 non-null object\n",
      "rental_access_method       114269 non-null object\n",
      "dtypes: float64(6), int64(2), object(6)\n",
      "memory usage: 18.9+ MB\n"
     ]
    }
   ],
   "source": [
    "trip_data_df.info()"
   ]
  },
  {
   "cell_type": "markdown",
   "metadata": {},
   "source": [
    "From the [Lyft's data source page](https://www.lyft.com/bikes/bay-wheels/system-data), we understand that this data is anonymized, and we only have the identifier for the bike used for a particular trip. Each row represents a trip. The columns `start_time` and `end_time` denote the date and the time when the trip was started or ended respectively. Let us convert these columns to a datetime object instead of a string object which they are currently in."
   ]
  },
  {
   "cell_type": "code",
   "execution_count": 9,
   "metadata": {},
   "outputs": [],
   "source": [
    "# Converting to datetime object\n",
    "trip_data_df['start_time'] = pd.to_datetime(trip_data_df['start_time'])\n",
    "trip_data_df['end_time'] = pd.to_datetime(trip_data_df['end_time'])"
   ]
  },
  {
   "cell_type": "markdown",
   "metadata": {},
   "source": [
    "The `bike_id` should be a string. Let us convert it."
   ]
  },
  {
   "cell_type": "code",
   "execution_count": 10,
   "metadata": {},
   "outputs": [],
   "source": [
    "# Converting to string\n",
    "trip_data_df['bike_id'] = trip_data_df['bike_id'].astype(str)"
   ]
  },
  {
   "cell_type": "markdown",
   "metadata": {},
   "source": [
    "The field `user_type` describes whether the user is a Subscriber (regular user subscribed to Bay Wheels), or a Customer (casual user/possibly one-time user). This type of variable is more suited for an ordered categorical type. Let us convert it as such."
   ]
  },
  {
   "cell_type": "code",
   "execution_count": 11,
   "metadata": {},
   "outputs": [],
   "source": [
    "# Converting to category\n",
    "trip_data_df['user_type'] = trip_data_df['user_type'].astype('category')\n",
    "trip_data_df['user_type'].cat.reorder_categories(['Customer', 'Subscriber'], inplace=True)"
   ]
  },
  {
   "cell_type": "markdown",
   "metadata": {},
   "source": [
    "The field `rental_access_method` denotes whether the bike was accessed using the app or by using a 'Clipper' card. Let us convert this into a categorical variable."
   ]
  },
  {
   "cell_type": "code",
   "execution_count": 12,
   "metadata": {},
   "outputs": [],
   "source": [
    "trip_data_df['rental_access_method'] = trip_data_df['rental_access_method'].astype('category')"
   ]
  },
  {
   "cell_type": "markdown",
   "metadata": {},
   "source": [
    "There are some missing values in the IDs and names of the start/end stations, but they do have their lattitude and longitude values, which we can use for further analysis. Also, not all values for the rental access method are available. There is no way we can obtain this data, so let us take a note of this for now and proceed to the next step."
   ]
  },
  {
   "cell_type": "markdown",
   "metadata": {},
   "source": [
    "Let us add new columns for the time of day (morning, afternoon, evening, or night) for both the start and end dates."
   ]
  },
  {
   "cell_type": "code",
   "execution_count": 13,
   "metadata": {},
   "outputs": [],
   "source": [
    "def get_time_of_day(x):\n",
    "    '''Takes in a pandas datetime object and returns the time of the day'''\n",
    "    if x.hour >= 6 and x.hour < 12:\n",
    "        return 'morning'\n",
    "    elif x.hour >= 12 and x.hour < 17:\n",
    "        return 'afternoon'\n",
    "    elif x.hour >= 17 and x.hour < 20:\n",
    "        return 'evening'\n",
    "    else:\n",
    "        return 'night'"
   ]
  },
  {
   "cell_type": "code",
   "execution_count": 14,
   "metadata": {},
   "outputs": [],
   "source": [
    "# Creating a categorical column for start and end time of day\n",
    "trip_data_df['start_time_of_day'] = trip_data_df['start_time'].apply(get_time_of_day).astype('category').cat.reorder_categories(['morning', 'afternoon', 'evening', 'night'])\n",
    "trip_data_df['end_time_of_day'] = trip_data_df['end_time'].apply(get_time_of_day).astype('category').cat.reorder_categories(['morning', 'afternoon', 'evening', 'night'])"
   ]
  },
  {
   "cell_type": "markdown",
   "metadata": {},
   "source": [
    "The following is how the wrangled data looks like."
   ]
  },
  {
   "cell_type": "code",
   "execution_count": 15,
   "metadata": {},
   "outputs": [
    {
     "data": {
      "text/html": [
       "<div>\n",
       "<style scoped>\n",
       "    .dataframe tbody tr th:only-of-type {\n",
       "        vertical-align: middle;\n",
       "    }\n",
       "\n",
       "    .dataframe tbody tr th {\n",
       "        vertical-align: top;\n",
       "    }\n",
       "\n",
       "    .dataframe thead th {\n",
       "        text-align: right;\n",
       "    }\n",
       "</style>\n",
       "<table border=\"1\" class=\"dataframe\">\n",
       "  <thead>\n",
       "    <tr style=\"text-align: right;\">\n",
       "      <th></th>\n",
       "      <th>duration_sec</th>\n",
       "      <th>start_time</th>\n",
       "      <th>end_time</th>\n",
       "      <th>start_station_id</th>\n",
       "      <th>start_station_name</th>\n",
       "      <th>start_station_latitude</th>\n",
       "      <th>start_station_longitude</th>\n",
       "      <th>end_station_id</th>\n",
       "      <th>end_station_name</th>\n",
       "      <th>end_station_latitude</th>\n",
       "      <th>end_station_longitude</th>\n",
       "      <th>bike_id</th>\n",
       "      <th>user_type</th>\n",
       "      <th>rental_access_method</th>\n",
       "      <th>start_time_of_day</th>\n",
       "      <th>end_time_of_day</th>\n",
       "    </tr>\n",
       "  </thead>\n",
       "  <tbody>\n",
       "    <tr>\n",
       "      <th>0</th>\n",
       "      <td>35187</td>\n",
       "      <td>2020-03-31 20:42:10.079</td>\n",
       "      <td>2020-04-01 06:28:37.844</td>\n",
       "      <td>462.0</td>\n",
       "      <td>Cruise Terminal at Pier 27</td>\n",
       "      <td>37.804648</td>\n",
       "      <td>-122.402087</td>\n",
       "      <td>24.0</td>\n",
       "      <td>Spear St at Folsom St</td>\n",
       "      <td>37.789677</td>\n",
       "      <td>-122.390428</td>\n",
       "      <td>10982</td>\n",
       "      <td>Customer</td>\n",
       "      <td>NaN</td>\n",
       "      <td>night</td>\n",
       "      <td>morning</td>\n",
       "    </tr>\n",
       "    <tr>\n",
       "      <th>1</th>\n",
       "      <td>14568</td>\n",
       "      <td>2020-03-31 22:45:25.501</td>\n",
       "      <td>2020-04-01 02:48:13.773</td>\n",
       "      <td>42.0</td>\n",
       "      <td>San Francisco City Hall (Polk St at Grove St)</td>\n",
       "      <td>37.778650</td>\n",
       "      <td>-122.418230</td>\n",
       "      <td>370.0</td>\n",
       "      <td>Jones St at Post St</td>\n",
       "      <td>37.787327</td>\n",
       "      <td>-122.413278</td>\n",
       "      <td>12617</td>\n",
       "      <td>Customer</td>\n",
       "      <td>NaN</td>\n",
       "      <td>night</td>\n",
       "      <td>night</td>\n",
       "    </tr>\n",
       "    <tr>\n",
       "      <th>2</th>\n",
       "      <td>35990</td>\n",
       "      <td>2020-03-31 15:08:22.331</td>\n",
       "      <td>2020-04-01 01:08:12.990</td>\n",
       "      <td>391.0</td>\n",
       "      <td>1st St at Younger Ave</td>\n",
       "      <td>37.355030</td>\n",
       "      <td>-121.904436</td>\n",
       "      <td>397.0</td>\n",
       "      <td>Gish Rd at 1st St</td>\n",
       "      <td>37.361867</td>\n",
       "      <td>-121.909315</td>\n",
       "      <td>12812</td>\n",
       "      <td>Customer</td>\n",
       "      <td>NaN</td>\n",
       "      <td>afternoon</td>\n",
       "      <td>night</td>\n",
       "    </tr>\n",
       "    <tr>\n",
       "      <th>3</th>\n",
       "      <td>1068</td>\n",
       "      <td>2020-03-31 23:55:00.426</td>\n",
       "      <td>2020-04-01 00:12:49.020</td>\n",
       "      <td>456.0</td>\n",
       "      <td>Arguello Blvd at Geary Blvd</td>\n",
       "      <td>37.781468</td>\n",
       "      <td>-122.458806</td>\n",
       "      <td>107.0</td>\n",
       "      <td>17th St at Dolores St</td>\n",
       "      <td>37.763015</td>\n",
       "      <td>-122.426497</td>\n",
       "      <td>12955</td>\n",
       "      <td>Customer</td>\n",
       "      <td>NaN</td>\n",
       "      <td>night</td>\n",
       "      <td>night</td>\n",
       "    </tr>\n",
       "    <tr>\n",
       "      <th>4</th>\n",
       "      <td>3300</td>\n",
       "      <td>2020-03-31 23:00:55.641</td>\n",
       "      <td>2020-03-31 23:55:56.611</td>\n",
       "      <td>6.0</td>\n",
       "      <td>The Embarcadero at Sansome St</td>\n",
       "      <td>37.804770</td>\n",
       "      <td>-122.403234</td>\n",
       "      <td>24.0</td>\n",
       "      <td>Spear St at Folsom St</td>\n",
       "      <td>37.789677</td>\n",
       "      <td>-122.390428</td>\n",
       "      <td>13050</td>\n",
       "      <td>Customer</td>\n",
       "      <td>NaN</td>\n",
       "      <td>night</td>\n",
       "      <td>night</td>\n",
       "    </tr>\n",
       "  </tbody>\n",
       "</table>\n",
       "</div>"
      ],
      "text/plain": [
       "   duration_sec              start_time                end_time  \\\n",
       "0         35187 2020-03-31 20:42:10.079 2020-04-01 06:28:37.844   \n",
       "1         14568 2020-03-31 22:45:25.501 2020-04-01 02:48:13.773   \n",
       "2         35990 2020-03-31 15:08:22.331 2020-04-01 01:08:12.990   \n",
       "3          1068 2020-03-31 23:55:00.426 2020-04-01 00:12:49.020   \n",
       "4          3300 2020-03-31 23:00:55.641 2020-03-31 23:55:56.611   \n",
       "\n",
       "   start_station_id                             start_station_name  \\\n",
       "0             462.0                     Cruise Terminal at Pier 27   \n",
       "1              42.0  San Francisco City Hall (Polk St at Grove St)   \n",
       "2             391.0                          1st St at Younger Ave   \n",
       "3             456.0                    Arguello Blvd at Geary Blvd   \n",
       "4               6.0                  The Embarcadero at Sansome St   \n",
       "\n",
       "   start_station_latitude  start_station_longitude  end_station_id  \\\n",
       "0               37.804648              -122.402087            24.0   \n",
       "1               37.778650              -122.418230           370.0   \n",
       "2               37.355030              -121.904436           397.0   \n",
       "3               37.781468              -122.458806           107.0   \n",
       "4               37.804770              -122.403234            24.0   \n",
       "\n",
       "        end_station_name  end_station_latitude  end_station_longitude bike_id  \\\n",
       "0  Spear St at Folsom St             37.789677            -122.390428   10982   \n",
       "1    Jones St at Post St             37.787327            -122.413278   12617   \n",
       "2      Gish Rd at 1st St             37.361867            -121.909315   12812   \n",
       "3  17th St at Dolores St             37.763015            -122.426497   12955   \n",
       "4  Spear St at Folsom St             37.789677            -122.390428   13050   \n",
       "\n",
       "  user_type rental_access_method start_time_of_day end_time_of_day  \n",
       "0  Customer                  NaN             night         morning  \n",
       "1  Customer                  NaN             night           night  \n",
       "2  Customer                  NaN         afternoon           night  \n",
       "3  Customer                  NaN             night           night  \n",
       "4  Customer                  NaN             night           night  "
      ]
     },
     "execution_count": 15,
     "metadata": {},
     "output_type": "execute_result"
    }
   ],
   "source": [
    "trip_data_df.head()"
   ]
  },
  {
   "cell_type": "code",
   "execution_count": 16,
   "metadata": {},
   "outputs": [
    {
     "name": "stdout",
     "output_type": "stream",
     "text": [
      "<class 'pandas.core.frame.DataFrame'>\n",
      "RangeIndex: 176799 entries, 0 to 176798\n",
      "Data columns (total 16 columns):\n",
      "duration_sec               176799 non-null int64\n",
      "start_time                 176799 non-null datetime64[ns]\n",
      "end_time                   176799 non-null datetime64[ns]\n",
      "start_station_id           110696 non-null float64\n",
      "start_station_name         111349 non-null object\n",
      "start_station_latitude     176799 non-null float64\n",
      "start_station_longitude    176799 non-null float64\n",
      "end_station_id             111097 non-null float64\n",
      "end_station_name           111794 non-null object\n",
      "end_station_latitude       176799 non-null float64\n",
      "end_station_longitude      176799 non-null float64\n",
      "bike_id                    176799 non-null object\n",
      "user_type                  176799 non-null category\n",
      "rental_access_method       114269 non-null category\n",
      "start_time_of_day          176799 non-null category\n",
      "end_time_of_day            176799 non-null category\n",
      "dtypes: category(4), datetime64[ns](2), float64(6), int64(1), object(3)\n",
      "memory usage: 16.9+ MB\n"
     ]
    }
   ],
   "source": [
    "trip_data_df.info()"
   ]
  },
  {
   "cell_type": "markdown",
   "metadata": {},
   "source": [
    "### How is the dataset structured?\n",
    "The data contains information about 176799 rides generated in the month of April for March 2020. The following are the variables in the dataset.\n",
    "\n",
    "- **duration_sec** - Duration of the ride (in seconds)\n",
    "- **start_time** - Date and time when the ride was initiated\n",
    "- **end_time** - Date and time when the ride was completed\n",
    "- **start_station_id** - Identifier of the bike station where the ride was initiated\n",
    "- **start_station_name** - Name of the bike station where the ride was initiated\n",
    "- **start_station_latitude** - Latitude of the bike station where the ride was initiated\n",
    "- **start_station_longitude** - Longitude of the bike station where the ride was initiated\n",
    "- **end_station_id** - Identifier of the bike station where the ride was completed\n",
    "- **end_station_name** - Name of the bike station where the ride was completed\n",
    "- **end_station_latitude** - Latitude of the bike station where the ride was completed\n",
    "- **end_station_longitude** - Longitude of the bike station where the ride was completed\n",
    "- **bike_id** - Identifier of the bike\n",
    "- **user_type** - Whether the user is a Subscriber (regular user) or a Customer (casual user)\n",
    "    - Category variable with values 'Customer' and 'Subscriber'\n",
    "    - Importance from Customer to Subscriber (Customer being the least important)\n",
    "- **rental_access_method** - The method which the user used to access the bike (via the app or the Clipper card)\n",
    "    - Category variable with values 'app' and 'clipper'\n",
    "    - No importance assigned to values\n",
    "- **start_time_of_day** - Derived from _start_time_, denotes the period of day of the _start_time_ attribute\n",
    "    - Category variable with values 'morning', 'afternoon', 'evening', and 'night'.\n",
    "    - Importance from early to late in the order 'morning', 'afternoon', 'evening', 'night'\n",
    "- **end_time_of_day** - Derived from _end_time_, denotes the period of day of the _end_time_ attribute\n",
    "    - Category variable with values 'morning', 'afternoon', 'evening', and 'night'.\n",
    "    - Importance from early to late in the order 'morning', 'afternoon', 'evening', 'night'\n",
    "\n",
    "### What are the main features of interest?\n",
    "- Do the subscribers have the longest rides or casual customers? Do app users ride longer than Clipper ones?\n",
    "    - Analyzing this could help us identify what kind of customers bring in the most revenue.\n",
    "- Which are the most frequently used bikes? Which stations have the most used bikes?\n",
    "    - Identifying this helps us maintain and repair the bikes to mitigate wear and tear and provide customers high-quality bikes.\n",
    "- How many customers travel, and which category do they fall (subscribers or customers) and at what time of the day?\n",
    "\n",
    "### What are the useful features in the dataset that can be used to describe the main features of interest?\n",
    "- The `duration_sec` column would help identify the length of the ride.\n",
    "- `user_type` and `rental_access_method` would help classify customers.\n",
    "- `bike_id` and the station variables would help identify bikes and stations respectively.\n",
    "- `start_time_of_day` and `end_time_of_day` is useful for grouping customers by the time of the day of starting and ending rides."
   ]
  },
  {
   "cell_type": "markdown",
   "metadata": {},
   "source": [
    "## Univariate Exploratory Analysis\n",
    "\n",
    "Let us explore the distribution of `duration_sec`."
   ]
  },
  {
   "cell_type": "code",
   "execution_count": 17,
   "metadata": {},
   "outputs": [
    {
     "data": {
      "text/plain": [
       "count    176799.000000\n",
       "mean        861.590156\n",
       "std        1528.143090\n",
       "min          60.000000\n",
       "25%         374.000000\n",
       "50%         602.000000\n",
       "75%         963.000000\n",
       "max       84450.000000\n",
       "Name: duration_sec, dtype: float64"
      ]
     },
     "execution_count": 17,
     "metadata": {},
     "output_type": "execute_result"
    }
   ],
   "source": [
    "trip_data_df['duration_sec'].describe()"
   ]
  },
  {
   "cell_type": "code",
   "execution_count": 18,
   "metadata": {},
   "outputs": [
    {
     "data": {
      "image/png": "[encoded data removed]",
      "text/plain": [
       "<matplotlib.figure.Figure at 0x7fa024328f98>"
      ]
     },
     "metadata": {
      "needs_background": "light"
     },
     "output_type": "display_data"
    }
   ],
   "source": [
    "# Plotting histogram without outliers based on above description\n",
    "bins = np.arange(0, 2000 + 100, 100)\n",
    "plt.hist(trip_data_df['duration_sec'], bins=bins)\n",
    "plt.xlabel('Duration of ride (sec)')\n",
    "plt.ylabel('Number of rides')\n",
    "plt.title('Number of rides by duration');"
   ]
  },
  {
   "cell_type": "markdown",
   "metadata": {},
   "source": [
    "The distribution is right-skewed. It seems that most people take very short rides (250-500 seconds), which is about 4 to 8 minutes. The longest ride was for 84450 seconds, which is almost 23 and a half hours! Somebody took a bike for an entire day!\n",
    "\n",
    "Let us see how this looks like in a box plot."
   ]
  },
  {
   "cell_type": "code",
   "execution_count": 19,
   "metadata": {},
   "outputs": [
    {
     "data": {
      "image/png": "[encoded data removed]",
      "text/plain": [
       "<matplotlib.figure.Figure at 0x7fa022069c50>"
      ]
     },
     "metadata": {
      "needs_background": "light"
     },
     "output_type": "display_data"
    }
   ],
   "source": [
    "# Plotting boxplot without outliers\n",
    "sb.boxplot(trip_data_df['duration_sec'])\n",
    "plt.xlim((0, 2000))\n",
    "plt.xlabel('Duration of ride (sec)');"
   ]
  },
  {
   "cell_type": "markdown",
   "metadata": {},
   "source": [
    "The mean is at about 600 seconds, or 10 minutes. The majority of the rides are for a short period.\n",
    "\n",
    "Let us explore the categorical variables `user_type` and `rental_access_method`."
   ]
  },
  {
   "cell_type": "code",
   "execution_count": 20,
   "metadata": {},
   "outputs": [
    {
     "data": {
      "image/png": "[encoded data removed]",
      "text/plain": [
       "<matplotlib.figure.Figure at 0x7fa0242b7400>"
      ]
     },
     "metadata": {
      "needs_background": "light"
     },
     "output_type": "display_data"
    }
   ],
   "source": [
    "# Plotting count plot based on user type\n",
    "color = sb.color_palette()[0]\n",
    "sb.countplot(trip_data_df['user_type'], color=color)\n",
    "plt.xlabel('Type of user')\n",
    "plt.ylabel('Amount of users')\n",
    "plt.title('Amount of users by type');"
   ]
  },
  {
   "cell_type": "markdown",
   "metadata": {},
   "source": [
    "There are more subscribers than customers in this dataset."
   ]
  },
  {
   "cell_type": "code",
   "execution_count": 21,
   "metadata": {},
   "outputs": [
    {
     "data": {
      "image/png": "[encoded data removed]",
      "text/plain": [
       "<matplotlib.figure.Figure at 0x7fa022074550>"
      ]
     },
     "metadata": {
      "needs_background": "light"
     },
     "output_type": "display_data"
    }
   ],
   "source": [
    "# Plotting count plot based on rental access method of customer\n",
    "color = sb.color_palette()[0]\n",
    "sb.countplot(trip_data_df['rental_access_method'], color=color)\n",
    "plt.xlabel('Rental access method')\n",
    "plt.ylabel('Amount of users')\n",
    "plt.title('Amount of users by rental access method');"
   ]
  },
  {
   "cell_type": "markdown",
   "metadata": {},
   "source": [
    "We can see that the vast majority of the customers use the app to ride. Clipper Cards are not very popular.\n",
    "\n",
    "Let us now see the top ten used bikes by bike ID."
   ]
  },
  {
   "cell_type": "code",
   "execution_count": 22,
   "metadata": {},
   "outputs": [
    {
     "data": {
      "text/html": [
       "<div>\n",
       "<style scoped>\n",
       "    .dataframe tbody tr th:only-of-type {\n",
       "        vertical-align: middle;\n",
       "    }\n",
       "\n",
       "    .dataframe tbody tr th {\n",
       "        vertical-align: top;\n",
       "    }\n",
       "\n",
       "    .dataframe thead th {\n",
       "        text-align: right;\n",
       "    }\n",
       "</style>\n",
       "<table border=\"1\" class=\"dataframe\">\n",
       "  <thead>\n",
       "    <tr style=\"text-align: right;\">\n",
       "      <th></th>\n",
       "      <th>bike_id</th>\n",
       "      <th>count</th>\n",
       "    </tr>\n",
       "  </thead>\n",
       "  <tbody>\n",
       "    <tr>\n",
       "      <th>0</th>\n",
       "      <td>400679</td>\n",
       "      <td>124</td>\n",
       "    </tr>\n",
       "    <tr>\n",
       "      <th>1</th>\n",
       "      <td>572289</td>\n",
       "      <td>107</td>\n",
       "    </tr>\n",
       "    <tr>\n",
       "      <th>2</th>\n",
       "      <td>329859</td>\n",
       "      <td>103</td>\n",
       "    </tr>\n",
       "    <tr>\n",
       "      <th>3</th>\n",
       "      <td>758330</td>\n",
       "      <td>100</td>\n",
       "    </tr>\n",
       "    <tr>\n",
       "      <th>4</th>\n",
       "      <td>467444</td>\n",
       "      <td>100</td>\n",
       "    </tr>\n",
       "    <tr>\n",
       "      <th>5</th>\n",
       "      <td>555435</td>\n",
       "      <td>99</td>\n",
       "    </tr>\n",
       "    <tr>\n",
       "      <th>6</th>\n",
       "      <td>406817</td>\n",
       "      <td>98</td>\n",
       "    </tr>\n",
       "    <tr>\n",
       "      <th>7</th>\n",
       "      <td>365978</td>\n",
       "      <td>97</td>\n",
       "    </tr>\n",
       "    <tr>\n",
       "      <th>8</th>\n",
       "      <td>956776</td>\n",
       "      <td>97</td>\n",
       "    </tr>\n",
       "    <tr>\n",
       "      <th>9</th>\n",
       "      <td>535738</td>\n",
       "      <td>96</td>\n",
       "    </tr>\n",
       "  </tbody>\n",
       "</table>\n",
       "</div>"
      ],
      "text/plain": [
       "  bike_id  count\n",
       "0  400679    124\n",
       "1  572289    107\n",
       "2  329859    103\n",
       "3  758330    100\n",
       "4  467444    100\n",
       "5  555435     99\n",
       "6  406817     98\n",
       "7  365978     97\n",
       "8  956776     97\n",
       "9  535738     96"
      ]
     },
     "execution_count": 22,
     "metadata": {},
     "output_type": "execute_result"
    }
   ],
   "source": [
    "# Calculating popular bikes\n",
    "popular_bikes = trip_data_df['bike_id'].value_counts()[:10].reset_index()\n",
    "popular_bikes.columns = ['bike_id', 'count']\n",
    "popular_bikes = popular_bikes.sort_values('count', ascending=False)\n",
    "popular_bikes"
   ]
  },
  {
   "cell_type": "code",
   "execution_count": 23,
   "metadata": {},
   "outputs": [
    {
     "data": {
      "image/png": "[encoded data removed]",
      "text/plain": [
       "<matplotlib.figure.Figure at 0x7fa0241d2940>"
      ]
     },
     "metadata": {
      "needs_background": "light"
     },
     "output_type": "display_data"
    }
   ],
   "source": [
    "# Plotting bar chart for the above\n",
    "color = sb.color_palette()[0]\n",
    "plt.xticks(rotation=20)\n",
    "sb.barplot(data = popular_bikes, x = 'bike_id', y = 'count', color = color, order = popular_bikes['bike_id']);"
   ]
  },
  {
   "cell_type": "markdown",
   "metadata": {},
   "source": [
    "This does not really give us more information. Let us check this by end station names instead to identify which stations are started with and ended up with the most bikes."
   ]
  },
  {
   "cell_type": "code",
   "execution_count": 24,
   "metadata": {},
   "outputs": [
    {
     "data": {
      "text/html": [
       "<div>\n",
       "<style scoped>\n",
       "    .dataframe tbody tr th:only-of-type {\n",
       "        vertical-align: middle;\n",
       "    }\n",
       "\n",
       "    .dataframe tbody tr th {\n",
       "        vertical-align: top;\n",
       "    }\n",
       "\n",
       "    .dataframe thead th {\n",
       "        text-align: right;\n",
       "    }\n",
       "</style>\n",
       "<table border=\"1\" class=\"dataframe\">\n",
       "  <thead>\n",
       "    <tr style=\"text-align: right;\">\n",
       "      <th></th>\n",
       "      <th>start_station_name</th>\n",
       "      <th>count</th>\n",
       "    </tr>\n",
       "  </thead>\n",
       "  <tbody>\n",
       "    <tr>\n",
       "      <th>0</th>\n",
       "      <td>San Francisco Caltrain (Townsend St at 4th St)</td>\n",
       "      <td>1910</td>\n",
       "    </tr>\n",
       "    <tr>\n",
       "      <th>1</th>\n",
       "      <td>Market St at 10th St</td>\n",
       "      <td>1851</td>\n",
       "    </tr>\n",
       "    <tr>\n",
       "      <th>2</th>\n",
       "      <td>Market St at Steuart St</td>\n",
       "      <td>1446</td>\n",
       "    </tr>\n",
       "    <tr>\n",
       "      <th>3</th>\n",
       "      <td>Berry St at 4th St</td>\n",
       "      <td>1414</td>\n",
       "    </tr>\n",
       "    <tr>\n",
       "      <th>4</th>\n",
       "      <td>Powell St BART Station (Market St at 4th St)</td>\n",
       "      <td>1306</td>\n",
       "    </tr>\n",
       "    <tr>\n",
       "      <th>5</th>\n",
       "      <td>Howard St at Beale St</td>\n",
       "      <td>1158</td>\n",
       "    </tr>\n",
       "    <tr>\n",
       "      <th>6</th>\n",
       "      <td>Montgomery St BART Station (Market St at 2nd St)</td>\n",
       "      <td>1116</td>\n",
       "    </tr>\n",
       "    <tr>\n",
       "      <th>7</th>\n",
       "      <td>Powell St BART Station (Market St at 5th St)</td>\n",
       "      <td>1100</td>\n",
       "    </tr>\n",
       "    <tr>\n",
       "      <th>8</th>\n",
       "      <td>San Francisco Ferry Building (Harry Bridges Pl...</td>\n",
       "      <td>951</td>\n",
       "    </tr>\n",
       "    <tr>\n",
       "      <th>9</th>\n",
       "      <td>Rhode Island St at 17th St</td>\n",
       "      <td>909</td>\n",
       "    </tr>\n",
       "  </tbody>\n",
       "</table>\n",
       "</div>"
      ],
      "text/plain": [
       "                                  start_station_name  count\n",
       "0     San Francisco Caltrain (Townsend St at 4th St)   1910\n",
       "1                               Market St at 10th St   1851\n",
       "2                            Market St at Steuart St   1446\n",
       "3                                 Berry St at 4th St   1414\n",
       "4       Powell St BART Station (Market St at 4th St)   1306\n",
       "5                              Howard St at Beale St   1158\n",
       "6   Montgomery St BART Station (Market St at 2nd St)   1116\n",
       "7       Powell St BART Station (Market St at 5th St)   1100\n",
       "8  San Francisco Ferry Building (Harry Bridges Pl...    951\n",
       "9                         Rhode Island St at 17th St    909"
      ]
     },
     "execution_count": 24,
     "metadata": {},
     "output_type": "execute_result"
    }
   ],
   "source": [
    "# Calculating popular stations by start time\n",
    "popular_bikes = trip_data_df['start_station_name'].value_counts()[:10].reset_index()\n",
    "popular_bikes.columns = ['start_station_name', 'count']\n",
    "popular_bikes = popular_bikes.sort_values('count', ascending=False)\n",
    "popular_bikes"
   ]
  },
  {
   "cell_type": "code",
   "execution_count": 25,
   "metadata": {},
   "outputs": [
    {
     "data": {
      "image/png": "[encoded data removed]",
      "text/plain": [
       "<matplotlib.figure.Figure at 0x7fa022069198>"
      ]
     },
     "metadata": {
      "needs_background": "light"
     },
     "output_type": "display_data"
    }
   ],
   "source": [
    "# Plotting bar chart for the above\n",
    "color = sb.color_palette()[0]\n",
    "plt.xticks(rotation=20)\n",
    "sb.barplot(data = popular_bikes, y = 'start_station_name', x = 'count', color = color, order = popular_bikes['start_station_name']);"
   ]
  },
  {
   "cell_type": "code",
   "execution_count": 26,
   "metadata": {},
   "outputs": [
    {
     "data": {
      "text/html": [
       "<div>\n",
       "<style scoped>\n",
       "    .dataframe tbody tr th:only-of-type {\n",
       "        vertical-align: middle;\n",
       "    }\n",
       "\n",
       "    .dataframe tbody tr th {\n",
       "        vertical-align: top;\n",
       "    }\n",
       "\n",
       "    .dataframe thead th {\n",
       "        text-align: right;\n",
       "    }\n",
       "</style>\n",
       "<table border=\"1\" class=\"dataframe\">\n",
       "  <thead>\n",
       "    <tr style=\"text-align: right;\">\n",
       "      <th></th>\n",
       "      <th>end_station_name</th>\n",
       "      <th>count</th>\n",
       "    </tr>\n",
       "  </thead>\n",
       "  <tbody>\n",
       "    <tr>\n",
       "      <th>0</th>\n",
       "      <td>San Francisco Caltrain (Townsend St at 4th St)</td>\n",
       "      <td>2796</td>\n",
       "    </tr>\n",
       "    <tr>\n",
       "      <th>1</th>\n",
       "      <td>Montgomery St BART Station (Market St at 2nd St)</td>\n",
       "      <td>2024</td>\n",
       "    </tr>\n",
       "    <tr>\n",
       "      <th>2</th>\n",
       "      <td>Market St at 10th St</td>\n",
       "      <td>1909</td>\n",
       "    </tr>\n",
       "    <tr>\n",
       "      <th>3</th>\n",
       "      <td>Berry St at 4th St</td>\n",
       "      <td>1527</td>\n",
       "    </tr>\n",
       "    <tr>\n",
       "      <th>4</th>\n",
       "      <td>Powell St BART Station (Market St at 4th St)</td>\n",
       "      <td>1527</td>\n",
       "    </tr>\n",
       "    <tr>\n",
       "      <th>5</th>\n",
       "      <td>Market St at Steuart St</td>\n",
       "      <td>1514</td>\n",
       "    </tr>\n",
       "    <tr>\n",
       "      <th>6</th>\n",
       "      <td>San Francisco Ferry Building (Harry Bridges Pl...</td>\n",
       "      <td>1267</td>\n",
       "    </tr>\n",
       "    <tr>\n",
       "      <th>7</th>\n",
       "      <td>Powell St BART Station (Market St at 5th St)</td>\n",
       "      <td>1116</td>\n",
       "    </tr>\n",
       "    <tr>\n",
       "      <th>8</th>\n",
       "      <td>Howard St at Beale St</td>\n",
       "      <td>1085</td>\n",
       "    </tr>\n",
       "    <tr>\n",
       "      <th>9</th>\n",
       "      <td>Rhode Island St at 17th St</td>\n",
       "      <td>975</td>\n",
       "    </tr>\n",
       "  </tbody>\n",
       "</table>\n",
       "</div>"
      ],
      "text/plain": [
       "                                    end_station_name  count\n",
       "0     San Francisco Caltrain (Townsend St at 4th St)   2796\n",
       "1   Montgomery St BART Station (Market St at 2nd St)   2024\n",
       "2                               Market St at 10th St   1909\n",
       "3                                 Berry St at 4th St   1527\n",
       "4       Powell St BART Station (Market St at 4th St)   1527\n",
       "5                            Market St at Steuart St   1514\n",
       "6  San Francisco Ferry Building (Harry Bridges Pl...   1267\n",
       "7       Powell St BART Station (Market St at 5th St)   1116\n",
       "8                              Howard St at Beale St   1085\n",
       "9                         Rhode Island St at 17th St    975"
      ]
     },
     "execution_count": 26,
     "metadata": {},
     "output_type": "execute_result"
    }
   ],
   "source": [
    "# Calculating popular stations by end time\n",
    "popular_bikes = trip_data_df['end_station_name'].value_counts()[:10].reset_index()\n",
    "popular_bikes.columns = ['end_station_name', 'count']\n",
    "popular_bikes = popular_bikes.sort_values('count', ascending=False)\n",
    "popular_bikes"
   ]
  },
  {
   "cell_type": "code",
   "execution_count": 27,
   "metadata": {
    "scrolled": true
   },
   "outputs": [
    {
     "data": {
      "image/png": "[encoded data removed]",
      "text/plain": [
       "<matplotlib.figure.Figure at 0x7fa024078c50>"
      ]
     },
     "metadata": {
      "needs_background": "light"
     },
     "output_type": "display_data"
    }
   ],
   "source": [
    "# Plotting bar chart for the above\n",
    "color = sb.color_palette()[0]\n",
    "plt.xticks(rotation=20)\n",
    "sb.barplot(data = popular_bikes, y = 'end_station_name', x = 'count', color = color, order = popular_bikes['end_station_name']);"
   ]
  },
  {
   "cell_type": "markdown",
   "metadata": {},
   "source": [
    "We can see that the San Francisco Caltrain station has significantly high (a bit below 3000) end rides in the month of March. It is also the most popular station for starting rides. This is the station we must focus the most on for maintaining bikes. Interestingly, the Market St. at 10th St. station is a close second for starting rides."
   ]
  },
  {
   "cell_type": "markdown",
   "metadata": {},
   "source": [
    "### Did you find any points of interest?\n",
    "- It seems that the majority of customers do not use the service for long rides. Most of the rides are for a short period (4-8 minutes).\n",
    "- There are more subscribers than one-time customers.\n",
    "- The overwhelming majority of the rides were accessed through the app as opposed to Clipper Cards.\n",
    "- The bike station 'San Francisco Caltrain' is overwhelmingly popular for starting and ending rides.\n",
    "\n",
    "###  Did you find any unusual attributes in the data?\n",
    "- There was one ride that was taken for almost one entire day."
   ]
  },
  {
   "cell_type": "markdown",
   "metadata": {},
   "source": [
    "## Bivariate Exploratory Analysis\n",
    "\n",
    "Let us look at the count of the duration of rides by user type."
   ]
  },
  {
   "cell_type": "code",
   "execution_count": 28,
   "metadata": {},
   "outputs": [
    {
     "data": {
      "image/png": "[encoded data removed]",
      "text/plain": [
       "<matplotlib.figure.Figure at 0x7fa023f49c50>"
      ]
     },
     "metadata": {
      "needs_background": "light"
     },
     "output_type": "display_data"
    }
   ],
   "source": [
    "# Plotting faceted histogram for duration and type of user\n",
    "g = sb.FacetGrid(data = trip_data_df, col = 'user_type', size=5)\n",
    "bins = np.arange(0, 2000 + 100, 100)\n",
    "g.map(plt.hist, 'duration_sec', bins=bins)\n",
    "axes = g.axes.flatten()\n",
    "axes[0].set_title(\"Number of rides by duration for Customers\")\n",
    "axes[1].set_title(\"Number of rides by duration for Subscribers\")\n",
    "axes[0].set_ylabel(\"Number of rides\")\n",
    "for ax in axes:\n",
    "    ax.set_xlabel(\"Duration of ride (sec)\")\n",
    "plt.plot();"
   ]
  },
  {
   "cell_type": "markdown",
   "metadata": {},
   "source": [
    "Here, we observe that the distribution is about the same, but with a longer peak for subscribers compared to customers. There are a higher number of subscribers than customers, as observed in the univariate bar plot done for these two categories earlier, which could explain the peak for subscribers.\n",
    "\n",
    "Let us perform the above for rental access method as well."
   ]
  },
  {
   "cell_type": "code",
   "execution_count": 29,
   "metadata": {},
   "outputs": [
    {
     "data": {
      "image/png": "[encoded data removed]",
      "text/plain": [
       "<matplotlib.figure.Figure at 0x7fa02405ccc0>"
      ]
     },
     "metadata": {
      "needs_background": "light"
     },
     "output_type": "display_data"
    }
   ],
   "source": [
    "# Plotting faceted histogram for duration and rental access method of customer\n",
    "g = sb.FacetGrid(data = trip_data_df, col = 'rental_access_method', size=5)\n",
    "bins = np.arange(0, 2000 + 100, 100)\n",
    "g.map(plt.hist, 'duration_sec', bins=bins)\n",
    "axes = g.axes.flatten()\n",
    "axes[0].set_title(\"Number of rides by duration for app users\")\n",
    "axes[1].set_title(\"Number of rides by duration for Clipper Card users\")\n",
    "axes[0].set_ylabel(\"Number of rides\")\n",
    "for ax in axes:\n",
    "    ax.set_xlabel(\"Duration of ride (sec)\")\n",
    "plt.plot();"
   ]
  },
  {
   "cell_type": "markdown",
   "metadata": {},
   "source": [
    "The amount of Clipper Card users are significantly less than those who use the app. Let us separately plot the Clipper Card users and look at the distribution."
   ]
  },
  {
   "cell_type": "code",
   "execution_count": 30,
   "metadata": {},
   "outputs": [
    {
     "data": {
      "image/png": "[encoded data removed]",
      "text/plain": [
       "<matplotlib.figure.Figure at 0x7fa023fc46a0>"
      ]
     },
     "metadata": {
      "needs_background": "light"
     },
     "output_type": "display_data"
    }
   ],
   "source": [
    "bins = np.arange(0, 2000 + 100, 100)\n",
    "plt.hist(trip_data_df.query('rental_access_method == \"clipper\"')['duration_sec'], bins=bins)\n",
    "plt.xlabel('Duration of ride (sec)')\n",
    "plt.ylabel('Number of rides')\n",
    "plt.title('Number of rides by duration for Clipper Card users');"
   ]
  },
  {
   "cell_type": "markdown",
   "metadata": {},
   "source": [
    "The distribution has the same shape, regardless of whether the customer uses an app or a Clipper Card, or whether the customer is a subscriber. There is no evidence to suggest that any of these customers exhibit different patterns."
   ]
  },
  {
   "cell_type": "markdown",
   "metadata": {},
   "source": [
    "### Did you find any points of interest?\n",
    "- All kinds of customers follow the same distribution, no matter whether they are subscribers or customers or use the app or the Clipper card. Everybody uses Bay Wheels for short rides.\n",
    "\n",
    "###  Did you find any unusual attributes in the data?\n",
    "- We would usually expect different segments of customers to exhibit different behaviour, but in this case, being a subscriber or a card user does not seem to impact the behaviour of most customers. Everybody seems to be following the same distribution."
   ]
  },
  {
   "cell_type": "markdown",
   "metadata": {},
   "source": [
    "## Multivariate Exploratory Analysis\n",
    "\n",
    "Let us explore the remaining question: How many customers travel, and which category do they fall (subscribers or customers) and at what time of the day?\n",
    "\n",
    "Multivariate analysis is useful for this, as we are analyzing data across four dimensions: the amount of customers, the type of customer, the time of the day for starting, and for ending the ride."
   ]
  },
  {
   "cell_type": "code",
   "execution_count": 31,
   "metadata": {
    "scrolled": false
   },
   "outputs": [
    {
     "data": {
      "image/png": "[encoded data removed]",
      "text/plain": [
       "<matplotlib.figure.Figure at 0x7fa023c64f98>"
      ]
     },
     "metadata": {
      "needs_background": "light"
     },
     "output_type": "display_data"
    }
   ],
   "source": [
    "# Plotting clustered bar charts for the above four variables\n",
    "fig = plt.figure(figsize=(8,8))\n",
    "ax = fig.add_subplot(2, 1, 1)\n",
    "sb.countplot(data=trip_data_df, y='start_time_of_day', hue='user_type')\n",
    "plt.subplots_adjust(bottom=0.01)\n",
    "ax.set_title('Count of different types of customers by trip start time of day')\n",
    "ax.set_xlabel('Number of customers')\n",
    "ax.set_ylabel('Time of day during trip start')\n",
    "plt.legend(title='Type of user')\n",
    "ax = fig.add_subplot(2, 1, 2)\n",
    "sb.countplot(data=trip_data_df, y='end_time_of_day', hue='user_type')\n",
    "ax.set_title('Count of different types of customers by trip end time of day')\n",
    "ax.set_xlabel('Number of customers')\n",
    "ax.set_ylabel('Time of day during trip end')\n",
    "plt.legend(title='Type of user');"
   ]
  },
  {
   "cell_type": "markdown",
   "metadata": {},
   "source": [
    "Both the graphs show similar distribution. The distribution across the time of the day and the type of customer is roughly the same and is only impacted by the amount of customers in that category.\n",
    "\n",
    "One observation we can make from the above graph is that any kind of customer is more likely to ride in the afternoon or the morning."
   ]
  },
  {
   "cell_type": "markdown",
   "metadata": {},
   "source": [
    "### Did you find any points of interest?\n",
    "- With respect to the time of the day when the trips are started and ended, the customers exhibit homogeneous behaviour. This follows from the previous bivariate and univariate exploration.\n",
    "- Customers are more likely to ride in the afternoon rather than other periods of the day. We can use this information to ensure that more bikes are available in afternoons.\n",
    "\n",
    "###  Did you find any unusual attributes in the data?\n",
    "- We did not find any different behaviour in different segments of customers. Customer behaviour regardless of their type is similar."
   ]
  }
 ],
 "metadata": {
  "kernelspec": {
   "display_name": "Python 3",
   "language": "python",
   "name": "python3"
  },
  "language_info": {
   "codemirror_mode": {
    "name": "ipython",
    "version": 3
   },
   "file_extension": ".py",
   "mimetype": "text/x-python",
   "name": "python",
   "nbconvert_exporter": "python",
   "pygments_lexer": "ipython3",
   "version": "3.6.3"
  }
 },
 "nbformat": 4,
 "nbformat_minor": 2
}
